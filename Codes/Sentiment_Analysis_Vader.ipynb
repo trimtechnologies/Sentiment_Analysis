{
 "cells": [
  {
   "cell_type": "code",
   "execution_count": 1,
   "id": "7dc3391f",
   "metadata": {
    "ExecuteTime": {
     "end_time": "2023-05-29T14:58:19.614950Z",
     "start_time": "2023-05-29T14:58:15.115789Z"
    }
   },
   "outputs": [
    {
     "name": "stderr",
     "output_type": "stream",
     "text": [
      "[nltk_data] Downloading package vader_lexicon to\n",
      "[nltk_data]     /home/daniel/nltk_data...\n",
      "[nltk_data]   Package vader_lexicon is already up-to-date!\n"
     ]
    }
   ],
   "source": [
    "# Importing all the necessary libraries\n",
    "import numpy as np\n",
    "import pandas as pd\n",
    "import matplotlib.pyplot as plt\n",
    "import seaborn as sns\n",
    "%matplotlib inline\n",
    "sns.set(font_scale=2.0, style='whitegrid', color_codes=True)\n",
    "\n",
    "# Sentiment Libraries\n",
    "import nltk\n",
    "nltk.download('vader_lexicon')\n",
    "from nltk.sentiment.vader import SentimentIntensityAnalyzer\n",
    "from transformers import AutoModelForSequenceClassification\n",
    "from transformers import AutoTokenizer\n",
    "from scipy.special import softmax\n",
    "import torch\n",
    "\n",
    "import ast\n",
    "from datetime import datetime\n",
    "from tqdm import tqdm\n",
    "import time\n",
    "\n",
    "pd.set_option('max_colwidth', 200)\n",
    "pd.set_option('display.max_rows',100)"
   ]
  },
  {
   "cell_type": "code",
   "execution_count": 2,
   "id": "7a8f4b82",
   "metadata": {
    "ExecuteTime": {
     "end_time": "2023-05-29T14:58:26.034169Z",
     "start_time": "2023-05-29T14:58:25.829777Z"
    }
   },
   "outputs": [
    {
     "data": {
      "text/html": [
       "<div>\n",
       "<style scoped>\n",
       "    .dataframe tbody tr th:only-of-type {\n",
       "        vertical-align: middle;\n",
       "    }\n",
       "\n",
       "    .dataframe tbody tr th {\n",
       "        vertical-align: top;\n",
       "    }\n",
       "\n",
       "    .dataframe thead th {\n",
       "        text-align: right;\n",
       "    }\n",
       "</style>\n",
       "<table border=\"1\" class=\"dataframe\">\n",
       "  <thead>\n",
       "    <tr style=\"text-align: right;\">\n",
       "      <th></th>\n",
       "      <th>content</th>\n",
       "      <th>Text_new</th>\n",
       "      <th>Datecreated</th>\n",
       "      <th>Month</th>\n",
       "      <th>VADER_Scores</th>\n",
       "      <th>VADER_Polarity</th>\n",
       "      <th>VADER_Sentiment</th>\n",
       "    </tr>\n",
       "  </thead>\n",
       "  <tbody>\n",
       "    <tr>\n",
       "      <th>0</th>\n",
       "      <td>Code-generating #AI can introduce #security #vulnerabilities \\nhttps://t.co/tBoOQkK4LD\\n\\n#cryptocurrencies #MachineLearning #AI #Python #DeepLearning #100DaysOfCode #fintech #nocode #bitcoin #cyb...</td>\n",
       "      <td>code generate ai introduce security vulnerability machinelearning ai-python-deeplearning daysofcode-fintech-nocode-bitcoin cybersecurity-cybersecurite-insurtech chatgpt</td>\n",
       "      <td>2022-12-29</td>\n",
       "      <td>12</td>\n",
       "      <td>{'neg': 0.143, 'neu': 0.677, 'pos': 0.18, 'compound': 0.128}</td>\n",
       "      <td>0.1280</td>\n",
       "      <td>Neutral</td>\n",
       "    </tr>\n",
       "    <tr>\n",
       "      <th>1</th>\n",
       "      <td>Advanced prompt engineering also needs some kind of #security #ChatGPT @SGgrc \\nhttps://t.co/euF66Y2KXt</td>\n",
       "      <td>advanced prompt engineering also need kind security chatgpt</td>\n",
       "      <td>2022-12-29</td>\n",
       "      <td>12</td>\n",
       "      <td>{'neg': 0.0, 'neu': 0.391, 'pos': 0.609, 'compound': 0.7783}</td>\n",
       "      <td>0.7783</td>\n",
       "      <td>Positive</td>\n",
       "    </tr>\n",
       "    <tr>\n",
       "      <th>2</th>\n",
       "      <td>#ChatGPT is a big #Deal and here’s why…\\n\\n-- Digital Security | The ...: https://t.co/EYOMaiWkn5.\\n\\n#2023 #Ai #AiNews #Applications #ArtificialIntelligence #Bugs #Chatbot #Chatbots #Code #Coding...</td>\n",
       "      <td>chatgpt big deal digital security ai ainews application bug chatbot chatbots code cod composition computer customerservice cybersecurity da</td>\n",
       "      <td>2022-12-29</td>\n",
       "      <td>12</td>\n",
       "      <td>{'neg': 0.0, 'neu': 0.876, 'pos': 0.124, 'compound': 0.34}</td>\n",
       "      <td>0.3400</td>\n",
       "      <td>Positive</td>\n",
       "    </tr>\n",
       "    <tr>\n",
       "      <th>3</th>\n",
       "      <td>#ChatGPT is a big #Deal and here’s why…\\n\\n-- Digital Security | The ...: https://t.co/1mLxQxpvAS.\\n\\n#2023 #Ai #AiNews #Applications #ArtificialIntelligence #Bugs #Chatbot #Chatbots #Code #Coding...</td>\n",
       "      <td>chatgpt big deal digital security ai ainews application bug chatbot chatbots code cod composition computer customerservice cybersecurity da</td>\n",
       "      <td>2022-12-29</td>\n",
       "      <td>12</td>\n",
       "      <td>{'neg': 0.0, 'neu': 0.876, 'pos': 0.124, 'compound': 0.34}</td>\n",
       "      <td>0.3400</td>\n",
       "      <td>Positive</td>\n",
       "    </tr>\n",
       "    <tr>\n",
       "      <th>4</th>\n",
       "      <td>I’ve been down the chat GPT rabbit hole.. and I’m fucking  scared I’m not making it out of college with any job security</td>\n",
       "      <td>chat-gpt rabbit hole fuck scar make college job security</td>\n",
       "      <td>2022-12-28</td>\n",
       "      <td>12</td>\n",
       "      <td>{'neg': 0.271, 'neu': 0.543, 'pos': 0.186, 'compound': -0.2732}</td>\n",
       "      <td>-0.2732</td>\n",
       "      <td>Negative</td>\n",
       "    </tr>\n",
       "  </tbody>\n",
       "</table>\n",
       "</div>"
      ],
      "text/plain": [
       "                                                                                                                                                                                                   content   \n",
       "0  Code-generating #AI can introduce #security #vulnerabilities \\nhttps://t.co/tBoOQkK4LD\\n\\n#cryptocurrencies #MachineLearning #AI #Python #DeepLearning #100DaysOfCode #fintech #nocode #bitcoin #cyb...  \\\n",
       "1                                                                                                  Advanced prompt engineering also needs some kind of #security #ChatGPT @SGgrc \\nhttps://t.co/euF66Y2KXt   \n",
       "2  #ChatGPT is a big #Deal and here’s why…\\n\\n-- Digital Security | The ...: https://t.co/EYOMaiWkn5.\\n\\n#2023 #Ai #AiNews #Applications #ArtificialIntelligence #Bugs #Chatbot #Chatbots #Code #Coding...   \n",
       "3  #ChatGPT is a big #Deal and here’s why…\\n\\n-- Digital Security | The ...: https://t.co/1mLxQxpvAS.\\n\\n#2023 #Ai #AiNews #Applications #ArtificialIntelligence #Bugs #Chatbot #Chatbots #Code #Coding...   \n",
       "4                                                                                 I’ve been down the chat GPT rabbit hole.. and I’m fucking  scared I’m not making it out of college with any job security   \n",
       "\n",
       "                                                                                                                                                                   Text_new   \n",
       "0  code generate ai introduce security vulnerability machinelearning ai-python-deeplearning daysofcode-fintech-nocode-bitcoin cybersecurity-cybersecurite-insurtech chatgpt  \\\n",
       "1                                                                                                               advanced prompt engineering also need kind security chatgpt   \n",
       "2                               chatgpt big deal digital security ai ainews application bug chatbot chatbots code cod composition computer customerservice cybersecurity da   \n",
       "3                               chatgpt big deal digital security ai ainews application bug chatbot chatbots code cod composition computer customerservice cybersecurity da   \n",
       "4                                                                                                                  chat-gpt rabbit hole fuck scar make college job security   \n",
       "\n",
       "  Datecreated  Month   \n",
       "0  2022-12-29     12  \\\n",
       "1  2022-12-29     12   \n",
       "2  2022-12-29     12   \n",
       "3  2022-12-29     12   \n",
       "4  2022-12-28     12   \n",
       "\n",
       "                                                      VADER_Scores   \n",
       "0     {'neg': 0.143, 'neu': 0.677, 'pos': 0.18, 'compound': 0.128}  \\\n",
       "1     {'neg': 0.0, 'neu': 0.391, 'pos': 0.609, 'compound': 0.7783}   \n",
       "2       {'neg': 0.0, 'neu': 0.876, 'pos': 0.124, 'compound': 0.34}   \n",
       "3       {'neg': 0.0, 'neu': 0.876, 'pos': 0.124, 'compound': 0.34}   \n",
       "4  {'neg': 0.271, 'neu': 0.543, 'pos': 0.186, 'compound': -0.2732}   \n",
       "\n",
       "   VADER_Polarity VADER_Sentiment  \n",
       "0          0.1280         Neutral  \n",
       "1          0.7783        Positive  \n",
       "2          0.3400        Positive  \n",
       "3          0.3400        Positive  \n",
       "4         -0.2732        Negative  "
      ]
     },
     "execution_count": 2,
     "metadata": {},
     "output_type": "execute_result"
    }
   ],
   "source": [
    "data = pd.read_csv('VADER_Sentiment_result.csv')\n",
    "data.head(5)"
   ]
  },
  {
   "cell_type": "code",
   "execution_count": 23,
   "id": "5f13fa20",
   "metadata": {
    "ExecuteTime": {
     "end_time": "2023-05-29T12:48:14.981099Z",
     "start_time": "2023-05-29T12:48:14.977684Z"
    }
   },
   "outputs": [
    {
     "data": {
      "text/plain": [
       "38537"
      ]
     },
     "execution_count": 23,
     "metadata": {},
     "output_type": "execute_result"
    }
   ],
   "source": [
    "len(data)"
   ]
  },
  {
   "cell_type": "code",
   "execution_count": 6,
   "id": "c4e763a1",
   "metadata": {
    "ExecuteTime": {
     "end_time": "2023-05-26T20:37:01.812996Z",
     "start_time": "2023-05-26T20:37:01.396945Z"
    }
   },
   "outputs": [],
   "source": [
    "from datetime import datetime\n",
    "data['Date'] = pd.to_datetime(data['date'])\n",
    "\n",
    "# Set the start date as the first day of the first week\n",
    "start_date = pd.to_datetime('2022-11-30')\n",
    "\n",
    "# Create a date range from the first day of the first week to January 31, 2023\n",
    "dates = pd.date_range(start=start_date, end='2023-05-31')\n",
    "\n",
    "#create a dictionary to store date-week\n",
    "date_week = {}\n",
    "for date in dates:\n",
    "    week = date.isocalendar().week - start_date.isocalendar().week + 1\n",
    "    if week < 0:\n",
    "        week += 52\n",
    "    date_week[date] = week"
   ]
  },
  {
   "cell_type": "code",
   "execution_count": 15,
   "id": "24f1342d",
   "metadata": {
    "ExecuteTime": {
     "end_time": "2023-05-26T20:41:32.732450Z",
     "start_time": "2023-05-26T20:41:32.711538Z"
    }
   },
   "outputs": [
    {
     "data": {
      "text/html": [
       "<div>\n",
       "<style scoped>\n",
       "    .dataframe tbody tr th:only-of-type {\n",
       "        vertical-align: middle;\n",
       "    }\n",
       "\n",
       "    .dataframe tbody tr th {\n",
       "        vertical-align: top;\n",
       "    }\n",
       "\n",
       "    .dataframe thead th {\n",
       "        text-align: right;\n",
       "    }\n",
       "</style>\n",
       "<table border=\"1\" class=\"dataframe\">\n",
       "  <thead>\n",
       "    <tr style=\"text-align: right;\">\n",
       "      <th></th>\n",
       "      <th>content</th>\n",
       "      <th>Text_new</th>\n",
       "      <th>Datecreated</th>\n",
       "      <th>Month</th>\n",
       "      <th>Date</th>\n",
       "    </tr>\n",
       "  </thead>\n",
       "  <tbody>\n",
       "    <tr>\n",
       "      <th>0</th>\n",
       "      <td>Code-generating #AI can introduce #security #vulnerabilities \\nhttps://t.co/tBoOQkK4LD\\n\\n#cryptocurrencies #MachineLearning #AI #Python #DeepLearning #100DaysOfCode #fintech #nocode #bitcoin #cyb...</td>\n",
       "      <td>code generate ai introduce security vulnerability machinelearning ai-python-deeplearning daysofcode-fintech-nocode-bitcoin cybersecurity-cybersecurite-insurtech chatgpt</td>\n",
       "      <td>2022-12-29</td>\n",
       "      <td>12</td>\n",
       "      <td>2022-12-29 18:00:31+00:00</td>\n",
       "    </tr>\n",
       "    <tr>\n",
       "      <th>1</th>\n",
       "      <td>Advanced prompt engineering also needs some kind of #security #ChatGPT @SGgrc \\nhttps://t.co/euF66Y2KXt</td>\n",
       "      <td>advanced prompt engineering also need kind security chatgpt</td>\n",
       "      <td>2022-12-29</td>\n",
       "      <td>12</td>\n",
       "      <td>2022-12-29 13:15:14+00:00</td>\n",
       "    </tr>\n",
       "    <tr>\n",
       "      <th>2</th>\n",
       "      <td>#ChatGPT is a big #Deal and here’s why…\\n\\n-- Digital Security | The ...: https://t.co/EYOMaiWkn5.\\n\\n#2023 #Ai #AiNews #Applications #ArtificialIntelligence #Bugs #Chatbot #Chatbots #Code #Coding...</td>\n",
       "      <td>chatgpt big deal digital security ai ainews application bug chatbot chatbots code cod composition computer customerservice cybersecurity da</td>\n",
       "      <td>2022-12-29</td>\n",
       "      <td>12</td>\n",
       "      <td>2022-12-29 06:47:28+00:00</td>\n",
       "    </tr>\n",
       "    <tr>\n",
       "      <th>3</th>\n",
       "      <td>#ChatGPT is a big #Deal and here’s why…\\n\\n-- Digital Security | The ...: https://t.co/1mLxQxpvAS.\\n\\n#2023 #Ai #AiNews #Applications #ArtificialIntelligence #Bugs #Chatbot #Chatbots #Code #Coding...</td>\n",
       "      <td>chatgpt big deal digital security ai ainews application bug chatbot chatbots code cod composition computer customerservice cybersecurity da</td>\n",
       "      <td>2022-12-29</td>\n",
       "      <td>12</td>\n",
       "      <td>2022-12-29 06:47:10+00:00</td>\n",
       "    </tr>\n",
       "    <tr>\n",
       "      <th>4</th>\n",
       "      <td>I’ve been down the chat GPT rabbit hole.. and I’m fucking  scared I’m not making it out of college with any job security</td>\n",
       "      <td>chat-gpt rabbit hole fuck scar make college job security</td>\n",
       "      <td>2022-12-28</td>\n",
       "      <td>12</td>\n",
       "      <td>2022-12-28 20:13:28+00:00</td>\n",
       "    </tr>\n",
       "  </tbody>\n",
       "</table>\n",
       "</div>"
      ],
      "text/plain": [
       "                                                                                                                                                                                                   content   \n",
       "0  Code-generating #AI can introduce #security #vulnerabilities \\nhttps://t.co/tBoOQkK4LD\\n\\n#cryptocurrencies #MachineLearning #AI #Python #DeepLearning #100DaysOfCode #fintech #nocode #bitcoin #cyb...  \\\n",
       "1                                                                                                  Advanced prompt engineering also needs some kind of #security #ChatGPT @SGgrc \\nhttps://t.co/euF66Y2KXt   \n",
       "2  #ChatGPT is a big #Deal and here’s why…\\n\\n-- Digital Security | The ...: https://t.co/EYOMaiWkn5.\\n\\n#2023 #Ai #AiNews #Applications #ArtificialIntelligence #Bugs #Chatbot #Chatbots #Code #Coding...   \n",
       "3  #ChatGPT is a big #Deal and here’s why…\\n\\n-- Digital Security | The ...: https://t.co/1mLxQxpvAS.\\n\\n#2023 #Ai #AiNews #Applications #ArtificialIntelligence #Bugs #Chatbot #Chatbots #Code #Coding...   \n",
       "4                                                                                 I’ve been down the chat GPT rabbit hole.. and I’m fucking  scared I’m not making it out of college with any job security   \n",
       "\n",
       "                                                                                                                                                                   Text_new   \n",
       "0  code generate ai introduce security vulnerability machinelearning ai-python-deeplearning daysofcode-fintech-nocode-bitcoin cybersecurity-cybersecurite-insurtech chatgpt  \\\n",
       "1                                                                                                               advanced prompt engineering also need kind security chatgpt   \n",
       "2                               chatgpt big deal digital security ai ainews application bug chatbot chatbots code cod composition computer customerservice cybersecurity da   \n",
       "3                               chatgpt big deal digital security ai ainews application bug chatbot chatbots code cod composition computer customerservice cybersecurity da   \n",
       "4                                                                                                                  chat-gpt rabbit hole fuck scar make college job security   \n",
       "\n",
       "  Datecreated  Month                      Date  \n",
       "0  2022-12-29     12 2022-12-29 18:00:31+00:00  \n",
       "1  2022-12-29     12 2022-12-29 13:15:14+00:00  \n",
       "2  2022-12-29     12 2022-12-29 06:47:28+00:00  \n",
       "3  2022-12-29     12 2022-12-29 06:47:10+00:00  \n",
       "4  2022-12-28     12 2022-12-28 20:13:28+00:00  "
      ]
     },
     "execution_count": 15,
     "metadata": {},
     "output_type": "execute_result"
    }
   ],
   "source": [
    "#only save the columns that we need for sentiment analysis\n",
    "df_sample = data[['content', 'Text_new', 'Datecreated', 'Month','Date']].copy()\n",
    "# drop date column\n",
    "df_sample.head(5)"
   ]
  },
  {
   "cell_type": "code",
   "execution_count": 17,
   "id": "8948f1b7",
   "metadata": {
    "ExecuteTime": {
     "end_time": "2023-05-26T20:42:08.717201Z",
     "start_time": "2023-05-26T20:42:03.502214Z"
    }
   },
   "outputs": [
    {
     "name": "stdout",
     "output_type": "stream",
     "text": [
      "CPU times: user 5.21 s, sys: 1.03 ms, total: 5.21 s\n",
      "Wall time: 5.21 s\n"
     ]
    }
   ],
   "source": [
    "%%time\n",
    "#Initialize the vader sentiment analyser\n",
    "vader_model = SentimentIntensityAnalyzer()\n",
    "#apply VADER model to the dataset\n",
    "df_sample['VADER_Scores'] = df_sample['Text_new'].apply(lambda x: vader_model.polarity_scores(x))\n"
   ]
  },
  {
   "cell_type": "code",
   "execution_count": 18,
   "id": "f4b83dd9",
   "metadata": {
    "ExecuteTime": {
     "end_time": "2023-05-26T20:42:09.617857Z",
     "start_time": "2023-05-26T20:42:09.598212Z"
    }
   },
   "outputs": [],
   "source": [
    "#VADER returned the scores as a dictionary\n",
    "#get the compound score as the polarity score\n",
    "df_sample['VADER_Polarity'] = df_sample['VADER_Scores'].apply(lambda x: x['compound'])\n",
    "\n",
    "#Assign labels for each tweet, depending on the polarity.\n",
    "#Sentiment labels are assigned according to the polarity score: \n",
    "'''\n",
    "-1 to -0.25 => negative; \n",
    "-0.25 and 0.25 => neutral; \n",
    "0.25 to 1 => positive;\n",
    "'''\n",
    "df_sample['VADER_Sentiment'] = pd.cut(df_sample['VADER_Polarity'],\n",
    "                                bins = [-1, -0.25, 0.25, 1],\n",
    "                                labels=['Negative', 'Neutral', 'Positive'])"
   ]
  },
  {
   "cell_type": "code",
   "execution_count": 11,
   "id": "f70ea44b",
   "metadata": {
    "ExecuteTime": {
     "end_time": "2023-05-26T20:38:37.312511Z",
     "start_time": "2023-05-26T20:38:36.963023Z"
    }
   },
   "outputs": [],
   "source": [
    "df_sample.to_csv('VADER_Sentiment_result.csv', index=False)"
   ]
  },
  {
   "cell_type": "code",
   "execution_count": 20,
   "id": "e5101877",
   "metadata": {
    "ExecuteTime": {
     "end_time": "2023-05-26T20:42:27.709493Z",
     "start_time": "2023-05-26T20:42:27.558598Z"
    }
   },
   "outputs": [
    {
     "data": {
      "text/plain": [
       "Text(0.5, 1.0, 'Sentiment of Tweets about \\nChatGPT Security by VADER')"
      ]
     },
     "execution_count": 20,
     "metadata": {},
     "output_type": "execute_result"
    },
    {
     "data": {
      "image/png": "[encoded data removed]",
      "text/plain": [
       "<Figure size 1000x600 with 1 Axes>"
      ]
     },
     "metadata": {},
     "output_type": "display_data"
    }
   ],
   "source": [
    "sns.set_palette('crest')\n",
    "fig,ax=plt.subplots(1,1,figsize=(10,6))\n",
    "plt.subplot(1,1,1)\n",
    "pie_1 = df_sample['VADER_Sentiment'].value_counts()\n",
    "plt.pie(pie_1, autopct=\"%.1f%%\", pctdistance=1.1)\n",
    "plt.legend(labels = pie_1.index, \n",
    "          bbox_to_anchor=[1,1])\n",
    "plt.title('Sentiment of Tweets about \\nChatGPT Security by VADER')"
   ]
  },
  {
   "cell_type": "markdown",
   "id": "42f0eb56",
   "metadata": {},
   "source": [
    "### Roberta Model"
   ]
  },
  {
   "cell_type": "code",
   "execution_count": 3,
   "id": "2ceecd66",
   "metadata": {
    "ExecuteTime": {
     "end_time": "2023-05-29T14:59:08.133651Z",
     "start_time": "2023-05-29T14:59:04.306219Z"
    }
   },
   "outputs": [
    {
     "name": "stderr",
     "output_type": "stream",
     "text": [
      "Some weights of the model checkpoint at cardiffnlp/twitter-roberta-base-sentiment-latest were not used when initializing RobertaForSequenceClassification: ['roberta.pooler.dense.weight', 'roberta.pooler.dense.bias']\n",
      "- This IS expected if you are initializing RobertaForSequenceClassification from the checkpoint of a model trained on another task or with another architecture (e.g. initializing a BertForSequenceClassification model from a BertForPreTraining model).\n",
      "- This IS NOT expected if you are initializing RobertaForSequenceClassification from the checkpoint of a model that you expect to be exactly identical (initializing a BertForSequenceClassification model from a BertForSequenceClassification model).\n"
     ]
    }
   ],
   "source": [
    "#load the model and tokenizer\n",
    "\n",
    "model_path = f\"cardiffnlp/twitter-roberta-base-sentiment-latest\"\n",
    "tokenizer = AutoTokenizer.from_pretrained(model_path)\n",
    "roberta_model = AutoModelForSequenceClassification.from_pretrained(model_path)"
   ]
  },
  {
   "cell_type": "code",
   "execution_count": 4,
   "id": "1dce1600",
   "metadata": {
    "ExecuteTime": {
     "end_time": "2023-05-29T14:59:13.115624Z",
     "start_time": "2023-05-29T14:59:13.110669Z"
    }
   },
   "outputs": [],
   "source": [
    " #function that takes text and model to calculate the probability of each sentiment\n",
    "def sentiment_analyzer(tweet,model):\n",
    "    #return the output of PyTorch tensors\n",
    "    encoded_tweet = tokenizer(tweet, return_tensors='pt', max_length=512, truncation=True, padding='max_length')   \n",
    "    \n",
    "    #calculate the sentiment\n",
    "    output = model(**encoded_tweet)           \n",
    "    \n",
    "    #returning a NumPy array containing the embeddings of scores\n",
    "    scores = output[0][0].detach().numpy()\n",
    "    #normalize the scores to probability\n",
    "    probability = np.round(softmax(scores),3)\n",
    "\n",
    "    #calculate the polarity by multiply each probability to its weight(Negative:-1, Neutral:0, Positive:1)\n",
    "    #define weight vector\n",
    "    polarity_weights = torch.tensor([-1, 0, 1])\n",
    "    \n",
    "    #construct the tensor of probability\n",
    "    probability = torch.tensor(probability)\n",
    "    \n",
    "    #calculate the polartiy score\n",
    "    polarity = polarity_weights*probability\n",
    "    \n",
    "    # sum the weighted probabilities along the last dimension\n",
    "    polarity = polarity.sum(dim=-1)\n",
    "    \n",
    "    #Scale polarity score to range [-1, 1]\n",
    "    polarity_scaled = torch.nn.Tanh()(polarity)\n",
    "    \n",
    "    return round(polarity_scaled.item(),4) "
   ]
  },
  {
   "cell_type": "code",
   "execution_count": 9,
   "id": "38f2f66d",
   "metadata": {
    "ExecuteTime": {
     "end_time": "2023-05-29T15:00:50.635142Z",
     "start_time": "2023-05-29T15:00:50.623556Z"
    }
   },
   "outputs": [],
   "source": [
    "#as the roBERTa running will be quite long, will split the dataframe into chunks of 20k tweets each\n",
    "n = 500  #chunk row size\n",
    "list_df_2=[data[i:i+n].copy() for i in range(0,data.shape[0],n)]\n",
    "\n"
   ]
  },
  {
   "cell_type": "code",
   "execution_count": 10,
   "id": "644f2582",
   "metadata": {
    "ExecuteTime": {
     "end_time": "2023-05-29T15:00:52.730399Z",
     "start_time": "2023-05-29T15:00:52.727641Z"
    }
   },
   "outputs": [
    {
     "data": {
      "text/plain": [
       "78"
      ]
     },
     "execution_count": 10,
     "metadata": {},
     "output_type": "execute_result"
    }
   ],
   "source": [
    "len(list_df_2)"
   ]
  },
  {
   "cell_type": "code",
   "execution_count": null,
   "id": "03262f6b",
   "metadata": {
    "ExecuteTime": {
     "start_time": "2023-05-29T15:00:57.254Z"
    }
   },
   "outputs": [],
   "source": [
    "# the dataframe has been splitted into 41 groups with 20000 tweets and an extra one with the remainder (12924 tweets)\n",
    "# will run the analysis over each one separately and then store in a csv file in case it crahses instead of redoing it again.\n",
    "i = 0\n",
    "for df in list_df_2[0:]:\n",
    "    i = i + 1\n",
    "    df['ROBERTA_Polarity'] = tqdm(data['Text_new'].apply(lambda x: sentiment_analyzer(x, roberta_model)))\n",
    "    df.to_csv(f'roberta_model/chunk_{i}.csv',index=False)\n",
    "    print(f\"Chunk {i} saved successfully.\")"
   ]
  },
  {
   "cell_type": "code",
   "execution_count": null,
   "id": "50dfb0c5",
   "metadata": {},
   "outputs": [],
   "source": [
    "# import glob   \n",
    "# #list all cvs file into a list\n",
    "# cvs_list = glob.glob('roberta_temp/*.{}'.format(csv))\n",
    "\n",
    "# #concat all csv files into one dataframe\n",
    "# df_sentiment = pd.concat([pd.read_csv(file) for file in cvs_list])"
   ]
  },
  {
   "cell_type": "code",
   "execution_count": 37,
   "id": "edef42c7",
   "metadata": {
    "ExecuteTime": {
     "end_time": "2023-05-26T14:31:44.560770Z",
     "start_time": "2023-05-26T14:31:44.510978Z"
    }
   },
   "outputs": [],
   "source": [
    "df_sentiment = data.copy()"
   ]
  },
  {
   "cell_type": "code",
   "execution_count": 50,
   "id": "2a09b748",
   "metadata": {
    "ExecuteTime": {
     "end_time": "2023-05-26T15:32:58.405049Z",
     "start_time": "2023-05-26T15:05:20.627885Z"
    }
   },
   "outputs": [
    {
     "ename": "IndexError",
     "evalue": "index out of range in self",
     "output_type": "error",
     "traceback": [
      "\u001b[0;31m---------------------------------------------------------------------------\u001b[0m",
      "\u001b[0;31mIndexError\u001b[0m                                Traceback (most recent call last)",
      "\u001b[0;32m/tmp/ipykernel_72949/1121540417.py\u001b[0m in \u001b[0;36m<module>\u001b[0;34m\u001b[0m\n\u001b[0;32m----> 1\u001b[0;31m \u001b[0mdf_sentiment\u001b[0m\u001b[0;34m[\u001b[0m\u001b[0;34m'ROBERTA_Polarity'\u001b[0m\u001b[0;34m]\u001b[0m \u001b[0;34m=\u001b[0m \u001b[0mdf_sentiment\u001b[0m\u001b[0;34m[\u001b[0m\u001b[0;34m'Text_new'\u001b[0m\u001b[0;34m]\u001b[0m\u001b[0;34m.\u001b[0m\u001b[0mapply\u001b[0m\u001b[0;34m(\u001b[0m\u001b[0;32mlambda\u001b[0m \u001b[0mx\u001b[0m\u001b[0;34m:\u001b[0m \u001b[0msentiment_analyzer\u001b[0m\u001b[0;34m(\u001b[0m\u001b[0mx\u001b[0m\u001b[0;34m,\u001b[0m\u001b[0mroberta_model\u001b[0m\u001b[0;34m)\u001b[0m\u001b[0;34m)\u001b[0m\u001b[0;34m\u001b[0m\u001b[0;34m\u001b[0m\u001b[0m\n\u001b[0m",
      "\u001b[0;32m~/anaconda3/lib/python3.9/site-packages/pandas/core/series.py\u001b[0m in \u001b[0;36mapply\u001b[0;34m(self, func, convert_dtype, args, **kwargs)\u001b[0m\n\u001b[1;32m   4624\u001b[0m         \u001b[0mdtype\u001b[0m\u001b[0;34m:\u001b[0m \u001b[0mfloat64\u001b[0m\u001b[0;34m\u001b[0m\u001b[0;34m\u001b[0m\u001b[0m\n\u001b[1;32m   4625\u001b[0m         \"\"\"\n\u001b[0;32m-> 4626\u001b[0;31m         \u001b[0;32mreturn\u001b[0m \u001b[0mSeriesApply\u001b[0m\u001b[0;34m(\u001b[0m\u001b[0mself\u001b[0m\u001b[0;34m,\u001b[0m \u001b[0mfunc\u001b[0m\u001b[0;34m,\u001b[0m \u001b[0mconvert_dtype\u001b[0m\u001b[0;34m,\u001b[0m \u001b[0margs\u001b[0m\u001b[0;34m,\u001b[0m \u001b[0mkwargs\u001b[0m\u001b[0;34m)\u001b[0m\u001b[0;34m.\u001b[0m\u001b[0mapply\u001b[0m\u001b[0;34m(\u001b[0m\u001b[0;34m)\u001b[0m\u001b[0;34m\u001b[0m\u001b[0;34m\u001b[0m\u001b[0m\n\u001b[0m\u001b[1;32m   4627\u001b[0m \u001b[0;34m\u001b[0m\u001b[0m\n\u001b[1;32m   4628\u001b[0m     def _reduce(\n",
      "\u001b[0;32m~/anaconda3/lib/python3.9/site-packages/pandas/core/apply.py\u001b[0m in \u001b[0;36mapply\u001b[0;34m(self)\u001b[0m\n\u001b[1;32m   1023\u001b[0m \u001b[0;34m\u001b[0m\u001b[0m\n\u001b[1;32m   1024\u001b[0m         \u001b[0;31m# self.f is Callable\u001b[0m\u001b[0;34m\u001b[0m\u001b[0;34m\u001b[0m\u001b[0m\n\u001b[0;32m-> 1025\u001b[0;31m         \u001b[0;32mreturn\u001b[0m \u001b[0mself\u001b[0m\u001b[0;34m.\u001b[0m\u001b[0mapply_standard\u001b[0m\u001b[0;34m(\u001b[0m\u001b[0;34m)\u001b[0m\u001b[0;34m\u001b[0m\u001b[0;34m\u001b[0m\u001b[0m\n\u001b[0m\u001b[1;32m   1026\u001b[0m \u001b[0;34m\u001b[0m\u001b[0m\n\u001b[1;32m   1027\u001b[0m     \u001b[0;32mdef\u001b[0m \u001b[0magg\u001b[0m\u001b[0;34m(\u001b[0m\u001b[0mself\u001b[0m\u001b[0;34m)\u001b[0m\u001b[0;34m:\u001b[0m\u001b[0;34m\u001b[0m\u001b[0;34m\u001b[0m\u001b[0m\n",
      "\u001b[0;32m~/anaconda3/lib/python3.9/site-packages/pandas/core/apply.py\u001b[0m in \u001b[0;36mapply_standard\u001b[0;34m(self)\u001b[0m\n\u001b[1;32m   1074\u001b[0m             \u001b[0;32melse\u001b[0m\u001b[0;34m:\u001b[0m\u001b[0;34m\u001b[0m\u001b[0;34m\u001b[0m\u001b[0m\n\u001b[1;32m   1075\u001b[0m                 \u001b[0mvalues\u001b[0m \u001b[0;34m=\u001b[0m \u001b[0mobj\u001b[0m\u001b[0;34m.\u001b[0m\u001b[0mastype\u001b[0m\u001b[0;34m(\u001b[0m\u001b[0mobject\u001b[0m\u001b[0;34m)\u001b[0m\u001b[0;34m.\u001b[0m\u001b[0m_values\u001b[0m\u001b[0;34m\u001b[0m\u001b[0;34m\u001b[0m\u001b[0m\n\u001b[0;32m-> 1076\u001b[0;31m                 mapped = lib.map_infer(\n\u001b[0m\u001b[1;32m   1077\u001b[0m                     \u001b[0mvalues\u001b[0m\u001b[0;34m,\u001b[0m\u001b[0;34m\u001b[0m\u001b[0;34m\u001b[0m\u001b[0m\n\u001b[1;32m   1078\u001b[0m                     \u001b[0mf\u001b[0m\u001b[0;34m,\u001b[0m\u001b[0;34m\u001b[0m\u001b[0;34m\u001b[0m\u001b[0m\n",
      "\u001b[0;32m~/anaconda3/lib/python3.9/site-packages/pandas/_libs/lib.pyx\u001b[0m in \u001b[0;36mpandas._libs.lib.map_infer\u001b[0;34m()\u001b[0m\n",
      "\u001b[0;32m/tmp/ipykernel_72949/1121540417.py\u001b[0m in \u001b[0;36m<lambda>\u001b[0;34m(x)\u001b[0m\n\u001b[0;32m----> 1\u001b[0;31m \u001b[0mdf_sentiment\u001b[0m\u001b[0;34m[\u001b[0m\u001b[0;34m'ROBERTA_Polarity'\u001b[0m\u001b[0;34m]\u001b[0m \u001b[0;34m=\u001b[0m \u001b[0mdf_sentiment\u001b[0m\u001b[0;34m[\u001b[0m\u001b[0;34m'Text_new'\u001b[0m\u001b[0;34m]\u001b[0m\u001b[0;34m.\u001b[0m\u001b[0mapply\u001b[0m\u001b[0;34m(\u001b[0m\u001b[0;32mlambda\u001b[0m \u001b[0mx\u001b[0m\u001b[0;34m:\u001b[0m \u001b[0msentiment_analyzer\u001b[0m\u001b[0;34m(\u001b[0m\u001b[0mx\u001b[0m\u001b[0;34m,\u001b[0m\u001b[0mroberta_model\u001b[0m\u001b[0;34m)\u001b[0m\u001b[0;34m)\u001b[0m\u001b[0;34m\u001b[0m\u001b[0;34m\u001b[0m\u001b[0m\n\u001b[0m",
      "\u001b[0;32m/tmp/ipykernel_72949/3739129575.py\u001b[0m in \u001b[0;36msentiment_analyzer\u001b[0;34m(tweet, model)\u001b[0m\n\u001b[1;32m      5\u001b[0m \u001b[0;34m\u001b[0m\u001b[0m\n\u001b[1;32m      6\u001b[0m    \u001b[0;31m#calculate the sentiment\u001b[0m\u001b[0;34m\u001b[0m\u001b[0;34m\u001b[0m\u001b[0m\n\u001b[0;32m----> 7\u001b[0;31m    \u001b[0moutput\u001b[0m \u001b[0;34m=\u001b[0m \u001b[0mmodel\u001b[0m\u001b[0;34m(\u001b[0m\u001b[0;34m**\u001b[0m\u001b[0mencoded_tweet\u001b[0m\u001b[0;34m)\u001b[0m\u001b[0;34m\u001b[0m\u001b[0;34m\u001b[0m\u001b[0m\n\u001b[0m\u001b[1;32m      8\u001b[0m \u001b[0;34m\u001b[0m\u001b[0m\n\u001b[1;32m      9\u001b[0m    \u001b[0;31m#returning a NumPy array containing the embeddings of scores\u001b[0m\u001b[0;34m\u001b[0m\u001b[0;34m\u001b[0m\u001b[0m\n",
      "\u001b[0;32m~/anaconda3/lib/python3.9/site-packages/torch/nn/modules/module.py\u001b[0m in \u001b[0;36m_call_impl\u001b[0;34m(self, *args, **kwargs)\u001b[0m\n\u001b[1;32m   1499\u001b[0m                 \u001b[0;32mor\u001b[0m \u001b[0m_global_backward_pre_hooks\u001b[0m \u001b[0;32mor\u001b[0m \u001b[0m_global_backward_hooks\u001b[0m\u001b[0;34m\u001b[0m\u001b[0;34m\u001b[0m\u001b[0m\n\u001b[1;32m   1500\u001b[0m                 or _global_forward_hooks or _global_forward_pre_hooks):\n\u001b[0;32m-> 1501\u001b[0;31m             \u001b[0;32mreturn\u001b[0m \u001b[0mforward_call\u001b[0m\u001b[0;34m(\u001b[0m\u001b[0;34m*\u001b[0m\u001b[0margs\u001b[0m\u001b[0;34m,\u001b[0m \u001b[0;34m**\u001b[0m\u001b[0mkwargs\u001b[0m\u001b[0;34m)\u001b[0m\u001b[0;34m\u001b[0m\u001b[0;34m\u001b[0m\u001b[0m\n\u001b[0m\u001b[1;32m   1502\u001b[0m         \u001b[0;31m# Do not call functions when jit is used\u001b[0m\u001b[0;34m\u001b[0m\u001b[0;34m\u001b[0m\u001b[0m\n\u001b[1;32m   1503\u001b[0m         \u001b[0mfull_backward_hooks\u001b[0m\u001b[0;34m,\u001b[0m \u001b[0mnon_full_backward_hooks\u001b[0m \u001b[0;34m=\u001b[0m \u001b[0;34m[\u001b[0m\u001b[0;34m]\u001b[0m\u001b[0;34m,\u001b[0m \u001b[0;34m[\u001b[0m\u001b[0;34m]\u001b[0m\u001b[0;34m\u001b[0m\u001b[0;34m\u001b[0m\u001b[0m\n",
      "\u001b[0;32m~/anaconda3/lib/python3.9/site-packages/transformers/models/roberta/modeling_roberta.py\u001b[0m in \u001b[0;36mforward\u001b[0;34m(self, input_ids, attention_mask, token_type_ids, position_ids, head_mask, inputs_embeds, labels, output_attentions, output_hidden_states, return_dict)\u001b[0m\n\u001b[1;32m   1214\u001b[0m         \u001b[0mreturn_dict\u001b[0m \u001b[0;34m=\u001b[0m \u001b[0mreturn_dict\u001b[0m \u001b[0;32mif\u001b[0m \u001b[0mreturn_dict\u001b[0m \u001b[0;32mis\u001b[0m \u001b[0;32mnot\u001b[0m \u001b[0;32mNone\u001b[0m \u001b[0;32melse\u001b[0m \u001b[0mself\u001b[0m\u001b[0;34m.\u001b[0m\u001b[0mconfig\u001b[0m\u001b[0;34m.\u001b[0m\u001b[0muse_return_dict\u001b[0m\u001b[0;34m\u001b[0m\u001b[0;34m\u001b[0m\u001b[0m\n\u001b[1;32m   1215\u001b[0m \u001b[0;34m\u001b[0m\u001b[0m\n\u001b[0;32m-> 1216\u001b[0;31m         outputs = self.roberta(\n\u001b[0m\u001b[1;32m   1217\u001b[0m             \u001b[0minput_ids\u001b[0m\u001b[0;34m,\u001b[0m\u001b[0;34m\u001b[0m\u001b[0;34m\u001b[0m\u001b[0m\n\u001b[1;32m   1218\u001b[0m             \u001b[0mattention_mask\u001b[0m\u001b[0;34m=\u001b[0m\u001b[0mattention_mask\u001b[0m\u001b[0;34m,\u001b[0m\u001b[0;34m\u001b[0m\u001b[0;34m\u001b[0m\u001b[0m\n",
      "\u001b[0;32m~/anaconda3/lib/python3.9/site-packages/torch/nn/modules/module.py\u001b[0m in \u001b[0;36m_call_impl\u001b[0;34m(self, *args, **kwargs)\u001b[0m\n\u001b[1;32m   1499\u001b[0m                 \u001b[0;32mor\u001b[0m \u001b[0m_global_backward_pre_hooks\u001b[0m \u001b[0;32mor\u001b[0m \u001b[0m_global_backward_hooks\u001b[0m\u001b[0;34m\u001b[0m\u001b[0;34m\u001b[0m\u001b[0m\n\u001b[1;32m   1500\u001b[0m                 or _global_forward_hooks or _global_forward_pre_hooks):\n\u001b[0;32m-> 1501\u001b[0;31m             \u001b[0;32mreturn\u001b[0m \u001b[0mforward_call\u001b[0m\u001b[0;34m(\u001b[0m\u001b[0;34m*\u001b[0m\u001b[0margs\u001b[0m\u001b[0;34m,\u001b[0m \u001b[0;34m**\u001b[0m\u001b[0mkwargs\u001b[0m\u001b[0;34m)\u001b[0m\u001b[0;34m\u001b[0m\u001b[0;34m\u001b[0m\u001b[0m\n\u001b[0m\u001b[1;32m   1502\u001b[0m         \u001b[0;31m# Do not call functions when jit is used\u001b[0m\u001b[0;34m\u001b[0m\u001b[0;34m\u001b[0m\u001b[0m\n\u001b[1;32m   1503\u001b[0m         \u001b[0mfull_backward_hooks\u001b[0m\u001b[0;34m,\u001b[0m \u001b[0mnon_full_backward_hooks\u001b[0m \u001b[0;34m=\u001b[0m \u001b[0;34m[\u001b[0m\u001b[0;34m]\u001b[0m\u001b[0;34m,\u001b[0m \u001b[0;34m[\u001b[0m\u001b[0;34m]\u001b[0m\u001b[0;34m\u001b[0m\u001b[0;34m\u001b[0m\u001b[0m\n",
      "\u001b[0;32m~/anaconda3/lib/python3.9/site-packages/transformers/models/roberta/modeling_roberta.py\u001b[0m in \u001b[0;36mforward\u001b[0;34m(self, input_ids, attention_mask, token_type_ids, position_ids, head_mask, inputs_embeds, encoder_hidden_states, encoder_attention_mask, past_key_values, use_cache, output_attentions, output_hidden_states, return_dict)\u001b[0m\n\u001b[1;32m    843\u001b[0m         \u001b[0mhead_mask\u001b[0m \u001b[0;34m=\u001b[0m \u001b[0mself\u001b[0m\u001b[0;34m.\u001b[0m\u001b[0mget_head_mask\u001b[0m\u001b[0;34m(\u001b[0m\u001b[0mhead_mask\u001b[0m\u001b[0;34m,\u001b[0m \u001b[0mself\u001b[0m\u001b[0;34m.\u001b[0m\u001b[0mconfig\u001b[0m\u001b[0;34m.\u001b[0m\u001b[0mnum_hidden_layers\u001b[0m\u001b[0;34m)\u001b[0m\u001b[0;34m\u001b[0m\u001b[0;34m\u001b[0m\u001b[0m\n\u001b[1;32m    844\u001b[0m \u001b[0;34m\u001b[0m\u001b[0m\n\u001b[0;32m--> 845\u001b[0;31m         embedding_output = self.embeddings(\n\u001b[0m\u001b[1;32m    846\u001b[0m             \u001b[0minput_ids\u001b[0m\u001b[0;34m=\u001b[0m\u001b[0minput_ids\u001b[0m\u001b[0;34m,\u001b[0m\u001b[0;34m\u001b[0m\u001b[0;34m\u001b[0m\u001b[0m\n\u001b[1;32m    847\u001b[0m             \u001b[0mposition_ids\u001b[0m\u001b[0;34m=\u001b[0m\u001b[0mposition_ids\u001b[0m\u001b[0;34m,\u001b[0m\u001b[0;34m\u001b[0m\u001b[0;34m\u001b[0m\u001b[0m\n",
      "\u001b[0;32m~/anaconda3/lib/python3.9/site-packages/torch/nn/modules/module.py\u001b[0m in \u001b[0;36m_call_impl\u001b[0;34m(self, *args, **kwargs)\u001b[0m\n\u001b[1;32m   1499\u001b[0m                 \u001b[0;32mor\u001b[0m \u001b[0m_global_backward_pre_hooks\u001b[0m \u001b[0;32mor\u001b[0m \u001b[0m_global_backward_hooks\u001b[0m\u001b[0;34m\u001b[0m\u001b[0;34m\u001b[0m\u001b[0m\n\u001b[1;32m   1500\u001b[0m                 or _global_forward_hooks or _global_forward_pre_hooks):\n\u001b[0;32m-> 1501\u001b[0;31m             \u001b[0;32mreturn\u001b[0m \u001b[0mforward_call\u001b[0m\u001b[0;34m(\u001b[0m\u001b[0;34m*\u001b[0m\u001b[0margs\u001b[0m\u001b[0;34m,\u001b[0m \u001b[0;34m**\u001b[0m\u001b[0mkwargs\u001b[0m\u001b[0;34m)\u001b[0m\u001b[0;34m\u001b[0m\u001b[0;34m\u001b[0m\u001b[0m\n\u001b[0m\u001b[1;32m   1502\u001b[0m         \u001b[0;31m# Do not call functions when jit is used\u001b[0m\u001b[0;34m\u001b[0m\u001b[0;34m\u001b[0m\u001b[0m\n\u001b[1;32m   1503\u001b[0m         \u001b[0mfull_backward_hooks\u001b[0m\u001b[0;34m,\u001b[0m \u001b[0mnon_full_backward_hooks\u001b[0m \u001b[0;34m=\u001b[0m \u001b[0;34m[\u001b[0m\u001b[0;34m]\u001b[0m\u001b[0;34m,\u001b[0m \u001b[0;34m[\u001b[0m\u001b[0;34m]\u001b[0m\u001b[0;34m\u001b[0m\u001b[0;34m\u001b[0m\u001b[0m\n",
      "\u001b[0;32m~/anaconda3/lib/python3.9/site-packages/transformers/models/roberta/modeling_roberta.py\u001b[0m in \u001b[0;36mforward\u001b[0;34m(self, input_ids, token_type_ids, position_ids, inputs_embeds, past_key_values_length)\u001b[0m\n\u001b[1;32m    126\u001b[0m         \u001b[0membeddings\u001b[0m \u001b[0;34m=\u001b[0m \u001b[0minputs_embeds\u001b[0m \u001b[0;34m+\u001b[0m \u001b[0mtoken_type_embeddings\u001b[0m\u001b[0;34m\u001b[0m\u001b[0;34m\u001b[0m\u001b[0m\n\u001b[1;32m    127\u001b[0m         \u001b[0;32mif\u001b[0m \u001b[0mself\u001b[0m\u001b[0;34m.\u001b[0m\u001b[0mposition_embedding_type\u001b[0m \u001b[0;34m==\u001b[0m \u001b[0;34m\"absolute\"\u001b[0m\u001b[0;34m:\u001b[0m\u001b[0;34m\u001b[0m\u001b[0;34m\u001b[0m\u001b[0m\n\u001b[0;32m--> 128\u001b[0;31m             \u001b[0mposition_embeddings\u001b[0m \u001b[0;34m=\u001b[0m \u001b[0mself\u001b[0m\u001b[0;34m.\u001b[0m\u001b[0mposition_embeddings\u001b[0m\u001b[0;34m(\u001b[0m\u001b[0mposition_ids\u001b[0m\u001b[0;34m)\u001b[0m\u001b[0;34m\u001b[0m\u001b[0;34m\u001b[0m\u001b[0m\n\u001b[0m\u001b[1;32m    129\u001b[0m             \u001b[0membeddings\u001b[0m \u001b[0;34m+=\u001b[0m \u001b[0mposition_embeddings\u001b[0m\u001b[0;34m\u001b[0m\u001b[0;34m\u001b[0m\u001b[0m\n\u001b[1;32m    130\u001b[0m         \u001b[0membeddings\u001b[0m \u001b[0;34m=\u001b[0m \u001b[0mself\u001b[0m\u001b[0;34m.\u001b[0m\u001b[0mLayerNorm\u001b[0m\u001b[0;34m(\u001b[0m\u001b[0membeddings\u001b[0m\u001b[0;34m)\u001b[0m\u001b[0;34m\u001b[0m\u001b[0;34m\u001b[0m\u001b[0m\n",
      "\u001b[0;32m~/anaconda3/lib/python3.9/site-packages/torch/nn/modules/module.py\u001b[0m in \u001b[0;36m_call_impl\u001b[0;34m(self, *args, **kwargs)\u001b[0m\n\u001b[1;32m   1499\u001b[0m                 \u001b[0;32mor\u001b[0m \u001b[0m_global_backward_pre_hooks\u001b[0m \u001b[0;32mor\u001b[0m \u001b[0m_global_backward_hooks\u001b[0m\u001b[0;34m\u001b[0m\u001b[0;34m\u001b[0m\u001b[0m\n\u001b[1;32m   1500\u001b[0m                 or _global_forward_hooks or _global_forward_pre_hooks):\n\u001b[0;32m-> 1501\u001b[0;31m             \u001b[0;32mreturn\u001b[0m \u001b[0mforward_call\u001b[0m\u001b[0;34m(\u001b[0m\u001b[0;34m*\u001b[0m\u001b[0margs\u001b[0m\u001b[0;34m,\u001b[0m \u001b[0;34m**\u001b[0m\u001b[0mkwargs\u001b[0m\u001b[0;34m)\u001b[0m\u001b[0;34m\u001b[0m\u001b[0;34m\u001b[0m\u001b[0m\n\u001b[0m\u001b[1;32m   1502\u001b[0m         \u001b[0;31m# Do not call functions when jit is used\u001b[0m\u001b[0;34m\u001b[0m\u001b[0;34m\u001b[0m\u001b[0m\n\u001b[1;32m   1503\u001b[0m         \u001b[0mfull_backward_hooks\u001b[0m\u001b[0;34m,\u001b[0m \u001b[0mnon_full_backward_hooks\u001b[0m \u001b[0;34m=\u001b[0m \u001b[0;34m[\u001b[0m\u001b[0;34m]\u001b[0m\u001b[0;34m,\u001b[0m \u001b[0;34m[\u001b[0m\u001b[0;34m]\u001b[0m\u001b[0;34m\u001b[0m\u001b[0;34m\u001b[0m\u001b[0m\n",
      "\u001b[0;32m~/anaconda3/lib/python3.9/site-packages/torch/nn/modules/sparse.py\u001b[0m in \u001b[0;36mforward\u001b[0;34m(self, input)\u001b[0m\n\u001b[1;32m    160\u001b[0m \u001b[0;34m\u001b[0m\u001b[0m\n\u001b[1;32m    161\u001b[0m     \u001b[0;32mdef\u001b[0m \u001b[0mforward\u001b[0m\u001b[0;34m(\u001b[0m\u001b[0mself\u001b[0m\u001b[0;34m,\u001b[0m \u001b[0minput\u001b[0m\u001b[0;34m:\u001b[0m \u001b[0mTensor\u001b[0m\u001b[0;34m)\u001b[0m \u001b[0;34m->\u001b[0m \u001b[0mTensor\u001b[0m\u001b[0;34m:\u001b[0m\u001b[0;34m\u001b[0m\u001b[0;34m\u001b[0m\u001b[0m\n\u001b[0;32m--> 162\u001b[0;31m         return F.embedding(\n\u001b[0m\u001b[1;32m    163\u001b[0m             \u001b[0minput\u001b[0m\u001b[0;34m,\u001b[0m \u001b[0mself\u001b[0m\u001b[0;34m.\u001b[0m\u001b[0mweight\u001b[0m\u001b[0;34m,\u001b[0m \u001b[0mself\u001b[0m\u001b[0;34m.\u001b[0m\u001b[0mpadding_idx\u001b[0m\u001b[0;34m,\u001b[0m \u001b[0mself\u001b[0m\u001b[0;34m.\u001b[0m\u001b[0mmax_norm\u001b[0m\u001b[0;34m,\u001b[0m\u001b[0;34m\u001b[0m\u001b[0;34m\u001b[0m\u001b[0m\n\u001b[1;32m    164\u001b[0m             self.norm_type, self.scale_grad_by_freq, self.sparse)\n",
      "\u001b[0;32m~/anaconda3/lib/python3.9/site-packages/torch/nn/functional.py\u001b[0m in \u001b[0;36membedding\u001b[0;34m(input, weight, padding_idx, max_norm, norm_type, scale_grad_by_freq, sparse)\u001b[0m\n\u001b[1;32m   2208\u001b[0m         \u001b[0;31m# remove once script supports set_grad_enabled\u001b[0m\u001b[0;34m\u001b[0m\u001b[0;34m\u001b[0m\u001b[0m\n\u001b[1;32m   2209\u001b[0m         \u001b[0m_no_grad_embedding_renorm_\u001b[0m\u001b[0;34m(\u001b[0m\u001b[0mweight\u001b[0m\u001b[0;34m,\u001b[0m \u001b[0minput\u001b[0m\u001b[0;34m,\u001b[0m \u001b[0mmax_norm\u001b[0m\u001b[0;34m,\u001b[0m \u001b[0mnorm_type\u001b[0m\u001b[0;34m)\u001b[0m\u001b[0;34m\u001b[0m\u001b[0;34m\u001b[0m\u001b[0m\n\u001b[0;32m-> 2210\u001b[0;31m     \u001b[0;32mreturn\u001b[0m \u001b[0mtorch\u001b[0m\u001b[0;34m.\u001b[0m\u001b[0membedding\u001b[0m\u001b[0;34m(\u001b[0m\u001b[0mweight\u001b[0m\u001b[0;34m,\u001b[0m \u001b[0minput\u001b[0m\u001b[0;34m,\u001b[0m \u001b[0mpadding_idx\u001b[0m\u001b[0;34m,\u001b[0m \u001b[0mscale_grad_by_freq\u001b[0m\u001b[0;34m,\u001b[0m \u001b[0msparse\u001b[0m\u001b[0;34m)\u001b[0m\u001b[0;34m\u001b[0m\u001b[0;34m\u001b[0m\u001b[0m\n\u001b[0m\u001b[1;32m   2211\u001b[0m \u001b[0;34m\u001b[0m\u001b[0m\n\u001b[1;32m   2212\u001b[0m \u001b[0;34m\u001b[0m\u001b[0m\n",
      "\u001b[0;31mIndexError\u001b[0m: index out of range in self"
     ]
    }
   ],
   "source": [
    "df_sentiment['ROBERTA_Polarity'] = df_sentiment['Text_new'].apply(lambda x: sentiment_analyzer(x,roberta_model))"
   ]
  },
  {
   "cell_type": "code",
   "execution_count": null,
   "id": "442551e5",
   "metadata": {},
   "outputs": [],
   "source": [
    "df_sentiment['ROBERTA_Sentiment'] = pd.cut(df_sentiment['ROBERTA_Polarity'],\n",
    "                                          bins = [-1, -0.25, 0.25, 1],\n",
    "                                          labels = ['Negative', 'Neutral', 'Positive'])"
   ]
  },
  {
   "cell_type": "code",
   "execution_count": null,
   "id": "964ae777",
   "metadata": {},
   "outputs": [],
   "source": [
    "df_sentiment.to_csv('Twitter_Sentiment_ROBERTA.csv', index=False)"
   ]
  },
  {
   "cell_type": "code",
   "execution_count": null,
   "id": "12318af9",
   "metadata": {},
   "outputs": [],
   "source": [
    "df_sentiment = pd.read_csv('Twitter_Sentiment_ROBERTA.csv')"
   ]
  },
  {
   "cell_type": "code",
   "execution_count": null,
   "id": "01589515",
   "metadata": {},
   "outputs": [],
   "source": [
    "#Random samples that VADER and ROBERTA models gave different sentiment output\n",
    "df_sentiment[df_sentiment['ROBERTA_Sentiment']!= df_sentiment['VADER_Sentiment']].sample(100)"
   ]
  },
  {
   "cell_type": "code",
   "execution_count": null,
   "id": "68889a25",
   "metadata": {},
   "outputs": [],
   "source": [
    "fig, ax = plt.subplots(1,1, figsize=(12,8))\n",
    "sns.kdeplot(df_sentiment['VADER_Polarity'],shade=True, legend='Vader', alpha=0.8)\n",
    "ax = sns.kdeplot(df_sentiment['ROBERTA_Polarity'], shade=True, legend='roBERTa', alpha=0.5)\n",
    "ax.set_xlabel('Polarity of Tweets')\n",
    "ax.set_title('Distribution of the Polarity of Tweets via VADER vs roberta')\n",
    "plt.legend(['Vader','roBERTa'])\n",
    "plt.show()"
   ]
  },
  {
   "cell_type": "code",
   "execution_count": null,
   "id": "61b79147",
   "metadata": {},
   "outputs": [],
   "source": [
    "# Sentiment of each topic\n",
    "\n",
    "topic_sen = df_sentiment.groupby('Topic_Name')['ROBERTA_Sentiment'].value_counts().unstack().reset_index()\n",
    "#sort by the popularity of the topics (total count)\n",
    "topic_sen['Total']=topic_sen['Negative']+topic_sen['Neutral']+topic_sen['Positive']\n",
    "topic_sen = topic_sen.sort_values('Total')\n",
    "topic_sen=topic_sen.drop(columns='Total')\n",
    "topic_sen = topic_sen.set_index('Topic_Name')\n",
    "\n",
    "ax=topic_sen.plot(kind='barh',stacked='True', color=['#ece7f2', '#a6bddb', '#2b8cbe'], figsize=(15,8))\n",
    "#get the percentage of each sentiment in specific topic\n",
    "percentages = topic_sen.div(topic_sen.sum(axis=1), axis=0)\n",
    "percentages = percentages.reset_index().melt('Topic_Name', var_name='Sentiment', value_name='Percentage')\n",
    "#label the percentage of each sentiment\n",
    "for i, patch in enumerate(ax.patches):\n",
    "    ax.text(patch.get_x()+patch.get_width()/2, \n",
    "            patch.get_y()+0.25, \n",
    "            f'{round(percentages.loc[i,\"Percentage\"]*100,2)}%', \n",
    "            ha='center', va='center', \n",
    "            color='black', fontsize=11)\n",
    "ax.set_xlabel('Count of Tweets')\n",
    "ax.set_ylabel('Topics')\n",
    "plt.show()"
   ]
  },
  {
   "cell_type": "code",
   "execution_count": null,
   "id": "9f9e2067",
   "metadata": {},
   "outputs": [],
   "source": []
  }
 ],
 "metadata": {
  "kernelspec": {
   "display_name": "Python 3 (ipykernel)",
   "language": "python",
   "name": "python3"
  },
  "language_info": {
   "codemirror_mode": {
    "name": "ipython",
    "version": 3
   },
   "file_extension": ".py",
   "mimetype": "text/x-python",
   "name": "python",
   "nbconvert_exporter": "python",
   "pygments_lexer": "ipython3",
   "version": "3.10.12"
  }
 },
 "nbformat": 4,
 "nbformat_minor": 5
}
